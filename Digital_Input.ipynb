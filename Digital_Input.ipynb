{
 "cells": [
  {
   "cell_type": "code",
   "execution_count": 1,
   "metadata": {},
   "outputs": [],
   "source": [
    "from Phidget22.Phidget import *\n",
    "from Phidget22.Devices.DigitalInput import *\n",
    "from Phidget22.Devices.Stepper import *\n",
    "import time\n",
    "import numpy as np"
   ]
  },
  {
   "cell_type": "code",
   "execution_count": 2,
   "metadata": {},
   "outputs": [
    {
     "ename": "PhidgetException",
     "evalue": "PhidgetException 0x03 (Timed Out)\nNo matching devices were found to open. Make sure your device is attached, and that your addressing parameters are specified correctly. If your Phidget has a plug or terminal block for external power, ensure it is plugged in and powered.",
     "output_type": "error",
     "traceback": [
      "\u001b[1;31m---------------------------------------------------------------------------\u001b[0m",
      "\u001b[1;31mPhidgetException\u001b[0m                          Traceback (most recent call last)",
      "Cell \u001b[1;32mIn[2], line 19\u001b[0m\n\u001b[0;32m     16\u001b[0m digitalInput6\u001b[39m.\u001b[39msetChannel(\u001b[39m6\u001b[39m)\n\u001b[0;32m     17\u001b[0m digitalInput7\u001b[39m.\u001b[39msetChannel(\u001b[39m7\u001b[39m)\n\u001b[1;32m---> 19\u001b[0m digitalInput0\u001b[39m.\u001b[39;49mopenWaitForAttachment(\u001b[39m5000\u001b[39;49m)\n\u001b[0;32m     20\u001b[0m digitalInput1\u001b[39m.\u001b[39mopenWaitForAttachment(\u001b[39m5000\u001b[39m)\n\u001b[0;32m     21\u001b[0m digitalInput2\u001b[39m.\u001b[39mopenWaitForAttachment(\u001b[39m5000\u001b[39m)\n",
      "File \u001b[1;32mc:\\Users\\alexr\\Anaconda3\\envs\\Xwinder\\lib\\site-packages\\Phidget22\\Phidget.py:633\u001b[0m, in \u001b[0;36mPhidget.openWaitForAttachment\u001b[1;34m(self, timeout)\u001b[0m\n\u001b[0;32m    630\u001b[0m result \u001b[39m=\u001b[39m __func(\u001b[39mself\u001b[39m\u001b[39m.\u001b[39mhandle, _timeout)\n\u001b[0;32m    632\u001b[0m \u001b[39mif\u001b[39;00m result \u001b[39m>\u001b[39m \u001b[39m0\u001b[39m:\n\u001b[1;32m--> 633\u001b[0m \t\u001b[39mraise\u001b[39;00m PhidgetException(result)\n",
      "\u001b[1;31mPhidgetException\u001b[0m: PhidgetException 0x03 (Timed Out)\nNo matching devices were found to open. Make sure your device is attached, and that your addressing parameters are specified correctly. If your Phidget has a plug or terminal block for external power, ensure it is plugged in and powered."
     ]
    }
   ],
   "source": [
    "digitalInput0 = DigitalInput()\n",
    "digitalInput1 = DigitalInput()\n",
    "digitalInput2 = DigitalInput()\n",
    "digitalInput3 = DigitalInput()\n",
    "digitalInput4 = DigitalInput()\n",
    "digitalInput5 = DigitalInput()\n",
    "digitalInput6 = DigitalInput()\n",
    "digitalInput7 = DigitalInput()\n",
    "\n",
    "digitalInput0.setChannel(0)\n",
    "digitalInput1.setChannel(1)\n",
    "digitalInput2.setChannel(2)\n",
    "digitalInput3.setChannel(3)\n",
    "digitalInput4.setChannel(4)\n",
    "digitalInput5.setChannel(5)\n",
    "digitalInput6.setChannel(6)\n",
    "digitalInput7.setChannel(7)\n",
    "\n",
    "digitalInput0.openWaitForAttachment(5000)\n",
    "digitalInput1.openWaitForAttachment(5000)\n",
    "digitalInput2.openWaitForAttachment(5000)\n",
    "digitalInput3.openWaitForAttachment(5000)\n",
    "digitalInput4.openWaitForAttachment(5000)\n",
    "digitalInput5.openWaitForAttachment(5000)\n",
    "digitalInput6.openWaitForAttachment(5000)\n",
    "digitalInput7.openWaitForAttachment(5000)"
   ]
  },
  {
   "cell_type": "code",
   "execution_count": null,
   "metadata": {},
   "outputs": [],
   "source": [
    "x = 0\n",
    "while x < 30:\n",
    "    state0 = digitalInput0.getState()\n",
    "    state1 = digitalInput1.getState()\n",
    "    state2 = digitalInput2.getState()\n",
    "    state3 = digitalInput3.getState()\n",
    "    state4 = digitalInput4.getState()\n",
    "    state5 = digitalInput5.getState()\n",
    "    state6 = digitalInput6.getState()\n",
    "    state7 = digitalInput7.getState()\n",
    "    print('----------------')\n",
    "    print(\"State0: \" + str(state0))\n",
    "    print(\"State1: \" + str(state1))\n",
    "    print(\"State2: \" + str(state2))\n",
    "    print(\"State3: \" + str(state3))\n",
    "    print(\"State4: \" + str(state4))\n",
    "    print(\"State5: \" + str(state5))\n",
    "    print(\"State6: \" + str(state6))\n",
    "    print(\"State7: \" + str(state7))\n",
    "    x += 1\n",
    "    time.sleep(1)"
   ]
  },
  {
   "cell_type": "code",
   "execution_count": null,
   "metadata": {},
   "outputs": [],
   "source": [
    "digitalInput0.close()\n",
    "digitalInput1.close()\n",
    "digitalInput2.close()\n",
    "digitalInput3.close()\n",
    "digitalInput4.close()\n",
    "digitalInput5.close()\n",
    "digitalInput6.close()\n",
    "digitalInput7.close()"
   ]
  },
  {
   "attachments": {},
   "cell_type": "markdown",
   "metadata": {},
   "source": [
    "Stepper Setup"
   ]
  },
  {
   "cell_type": "code",
   "execution_count": 1,
   "metadata": {},
   "outputs": [],
   "source": [
    "\n",
    "from Phidget22.Phidget import *\n",
    "from Phidget22.Devices.DigitalInput import *\n",
    "from Phidget22.Devices.Stepper import *\n",
    "import time\n",
    "import numpy as np\n",
    "\n",
    "mandrel = Stepper()\n",
    "mandrel.setDeviceSerialNumber(615813)\n",
    "mandrel.openWaitForAttachment(5000)\n",
    "mandrel.setAcceleration(10000)\n",
    "mandrel.setRescaleFactor(1/60.444) #convert so set target is in degrees\n",
    "\n",
    "\n",
    "carriage = Stepper()\n",
    "carriage.setDeviceSerialNumber(615519)\n",
    "carriage.openWaitForAttachment(5000)\n",
    "carriage.setAcceleration(50000)\n",
    "carriage.setRescaleFactor(-1/3624)\n",
    "\n",
    "head = Stepper()\n",
    "head.setDeviceSerialNumber(616004)\n",
    "head.openWaitForAttachment(5000)\n",
    "head.setAcceleration(4800)\n",
    "head.setRescaleFactor(9/1040)"
   ]
  },
  {
   "attachments": {},
   "cell_type": "markdown",
   "metadata": {},
   "source": [
    "Enter parameters for hoop winding\n"
   ]
  },
  {
   "cell_type": "code",
   "execution_count": 2,
   "metadata": {},
   "outputs": [],
   "source": [
    "linear_velocity = .2 # inch/sec\n",
    "fiber_thickness = .137\n",
    "travel_distance = 16\n",
    "\n",
    "t = fiber_thickness/linear_velocity\n",
    "angular_velocity = 360/t\n"
   ]
  },
  {
   "cell_type": "code",
   "execution_count": null,
   "metadata": {},
   "outputs": [],
   "source": [
    "carriage.setVelocityLimit(linear_velocity)\n",
    "mandrel.setVelocityLimit(angular_velocity)\n",
    "\n",
    "carriage.setTargetPosition(travel_distance)\n",
    "mandrel.setTargetPosition(-travel_distance*(360/fiber_thickness))"
   ]
  },
  {
   "cell_type": "code",
   "execution_count": 11,
   "metadata": {},
   "outputs": [],
   "source": [
    "mandrel.setEngaged(True)\n",
    "carriage.setEngaged(True)\n",
    "head.setEngaged(True)"
   ]
  },
  {
   "cell_type": "markdown",
   "metadata": {},
   "source": [
    "# CODE STARTS HERE"
   ]
  },
  {
   "cell_type": "markdown",
   "metadata": {},
   "source": [
    "## Initilization"
   ]
  },
  {
   "cell_type": "code",
   "execution_count": 1,
   "metadata": {},
   "outputs": [],
   "source": [
    "from Phidget22.Phidget import *\n",
    "from Phidget22.Devices.DigitalInput import *\n",
    "from Phidget22.Devices.Stepper import *\n",
    "import time\n",
    "import numpy as np\n",
    "\n",
    "mandrel = Stepper()\n",
    "mandrel.setDeviceSerialNumber(615813)\n",
    "mandrel.openWaitForAttachment(1000)\n",
    "mandrel.setAcceleration(40000)\n",
    "mandrel.setRescaleFactor(-0.01688)\n",
    "mandrel.setCurrentLimit(4)\n",
    "# mandrel.setRescaleFactor(1/60.444) #convert so set target is in degrees\n",
    "\n",
    "\n",
    "carriage = Stepper()\n",
    "carriage.setDeviceSerialNumber(615519)\n",
    "carriage.openWaitForAttachment(5000)\n",
    "carriage.setAcceleration(20000)\n",
    "carriage.setRescaleFactor(-0.00070)\n",
    "carriage.setCurrentLimit(4)\n",
    "# carriage.setRescaleFactor(-1/3624)\n",
    "\n",
    "head = Stepper()\n",
    "head.setDeviceSerialNumber(616004)\n",
    "head.openWaitForAttachment(5000)\n",
    "head.setAcceleration(4800)\n",
    "head.setRescaleFactor(0.02641)\n",
    "head.setCurrentLimit(3)\n",
    "# head.setRescaleFactor(9/1040)"
   ]
  },
  {
   "attachments": {},
   "cell_type": "markdown",
   "metadata": {},
   "source": [
    "## Calculate velocities and angular distance for helical winding and hoopwinding\n",
    "\n",
    "enter user parameters"
   ]
  },
  {
   "cell_type": "code",
   "execution_count": 3,
   "metadata": {},
   "outputs": [
    {
     "name": "stdout",
     "output_type": "stream",
     "text": [
      "54.588950739308224\n",
      "20\n"
     ]
    }
   ],
   "source": [
    "#user parameters\n",
    "\n",
    "#hoop:\n",
    "linear_velocity = .15 # inch/sec\n",
    "fiber_thickness = .152\n",
    "travel_distance = 23\n",
    "\n",
    "#helical\n",
    "alpha_desired = 55 #degrees\n",
    "# r = 1.985/2 #radius inches\n",
    "r = 1.67/2 #radius inches\n",
    "distance = 23\n",
    "L = 1.9 #in/s\n",
    "fiber_thickness = .16\n",
    "offset_fudge_factor = 1# percent multiplier for offset angle\n",
    "head_angle_length = .25 #in length in which the head turns during carriage direction change\n",
    "\n",
    "\n",
    "t = fiber_thickness/linear_velocity\n",
    "angular_velocity = 360/t\n",
    "\n",
    "#helical\n",
    "def calc_alpha(N, B, D):\n",
    "    return np.degrees(np.arccos((N*B)/(np.pi*D)))\n",
    "\n",
    "\n",
    "\n",
    "B = fiber_thickness\n",
    "D = 2*r\n",
    "possible_alphas = []\n",
    "alpha_error = 0\n",
    "previous_alpha_error = 100\n",
    "N = 1\n",
    "while alpha_error< previous_alpha_error:\n",
    "    N += 1\n",
    "    alpha_error = abs(calc_alpha(N, B, D) - alpha_desired )\n",
    "    previous_alpha_error = abs(calc_alpha(N-1, B, D) - alpha_desired )\n",
    "\n",
    "\n",
    "\n",
    "alpha = calc_alpha(N-1, B, D)\n",
    "print(alpha)\n",
    "print(N)\n",
    "\n",
    "width1 = fiber_thickness/np.cos(np.radians(alpha))\n",
    "angular_offset = width1*(360/(2*np.pi*r))*offset_fudge_factor\n",
    "\n",
    "W_mand = L*np.tan(np.radians(alpha))*(360/(2*np.pi*r))\n",
    "W_head = (90-alpha)/(360/W_mand)*1.5\n",
    "\n",
    "T = distance/L\n",
    "Total_angle = W_mand*T\n",
    "head_F = -(90-alpha+15)\n",
    "head_B = 90-alpha+15"
   ]
  },
  {
   "cell_type": "markdown",
   "metadata": {},
   "source": [
    "## Helical Forward"
   ]
  },
  {
   "cell_type": "code",
   "execution_count": 4,
   "metadata": {},
   "outputs": [
    {
     "name": "stdout",
     "output_type": "stream",
     "text": [
      "20\n",
      "0\n",
      "1\n",
      "2\n",
      "3\n",
      "4\n",
      "5\n",
      "6\n",
      "7\n",
      "8\n",
      "9\n",
      "10\n",
      "11\n",
      "12\n",
      "13\n",
      "14\n",
      "15\n",
      "16\n",
      "17\n",
      "18\n",
      "19\n"
     ]
    }
   ],
   "source": [
    "carriage.setVelocityLimit(L)\n",
    "mandrel.setVelocityLimit(W_mand)\n",
    "print(N)\n",
    "for i in range(N):\n",
    "\n",
    "    print(i)\n",
    "\n",
    "    #Helical Path forwards\n",
    "    head.setTargetPosition(head_F)\n",
    "    head.setEngaged(True)\n",
    "\n",
    "    carriage.setTargetPosition(distance)\n",
    "    mandrel.setTargetPosition(mandrel.getTargetPosition()-Total_angle)\n",
    "\n",
    "    head.setEngaged(True)\n",
    "    mandrel.setEngaged(True)\n",
    "    carriage.setEngaged(True)\n",
    "\n",
    "    while (mandrel.getIsMoving()):\n",
    "        time.sleep(.5)\n",
    "\n",
    "\n",
    "    #taper\n",
    "\n",
    "\n",
    "    head.setVelocityLimit(W_head)\n",
    "    head.setTargetPosition(0)\n",
    "    mandrel.setTargetPosition(mandrel.getTargetPosition() - 360)\n",
    "\n",
    "    mandrel.setEngaged(True)\n",
    "    head.setEngaged(True)\n",
    "\n",
    "    while (mandrel.getIsMoving()):\n",
    "        time.sleep(.5)\n",
    "\n",
    "\n",
    "    # move head to helical angle\n",
    "    head.setVelocityLimit(abs(head_B)/(head_angle_length/L))\n",
    "    head.setTargetPosition(head_B)\n",
    "\n",
    "\n",
    "    #return on helical path\n",
    "    carriage.setTargetPosition(0)\n",
    "    mandrel.setTargetPosition(mandrel.getTargetPosition()-Total_angle)\n",
    "\n",
    "    head.setEngaged(True)\n",
    "    mandrel.setEngaged(True)\n",
    "    carriage.setEngaged(True)\n",
    "\n",
    "    while (mandrel.getIsMoving()):\n",
    "        time.sleep(.5)\n",
    "\n",
    "\n",
    "    #turn head while tapering\n",
    "    head.setVelocityLimit(W_head)\n",
    "    head.setTargetPosition(0)\n",
    "    mandrel.setTargetPosition(mandrel.getTargetPosition() - 360-angular_offset)\n",
    "\n",
    "    mandrel.setEngaged(True)\n",
    "    head.setEngaged(True)\n",
    "\n",
    "    while (mandrel.getIsMoving()):\n",
    "        time.sleep(.5)\n",
    "\n",
    "\n",
    "    # move head to helical angle\n",
    "    head.setVelocityLimit(abs(head_B)/(head_angle_length/L))\n",
    "    head.setTargetPosition(head_F)\n"
   ]
  },
  {
   "attachments": {},
   "cell_type": "markdown",
   "metadata": {},
   "source": [
    "## Hoop winding forwards: "
   ]
  },
  {
   "cell_type": "code",
   "execution_count": 4,
   "metadata": {},
   "outputs": [],
   "source": [
    "carriage.setVelocityLimit(linear_velocity)\n",
    "mandrel.setVelocityLimit(angular_velocity)\n",
    "\n",
    "head.setTargetPosition(0)\n",
    "carriage.setTargetPosition(travel_distance)\n",
    "mandrel.setTargetPosition(\n",
    "    mandrel.getTargetPosition() - travel_distance * (360 / fiber_thickness)\n",
    ")\n",
    "\n",
    "head.setEngaged(True)\n",
    "mandrel.setEngaged(True)\n",
    "carriage.setEngaged(True)"
   ]
  },
  {
   "attachments": {},
   "cell_type": "markdown",
   "metadata": {},
   "source": [
    "## Helical Winding Backwards "
   ]
  },
  {
   "cell_type": "code",
   "execution_count": 5,
   "metadata": {},
   "outputs": [
    {
     "name": "stdout",
     "output_type": "stream",
     "text": [
      "Total Iterations: 20\n",
      "Iter:0/20\n",
      "Iter:1/20\n",
      "Iter:2/20\n",
      "Iter:3/20\n",
      "Iter:4/20\n",
      "Iter:5/20\n",
      "Iter:6/20\n",
      "Iter:7/20\n",
      "Iter:8/20\n",
      "Iter:9/20\n",
      "Iter:10/20\n",
      "Iter:11/20\n",
      "Iter:12/20\n",
      "Iter:13/20\n",
      "Iter:14/20\n",
      "Iter:15/20\n",
      "Iter:16/20\n",
      "Iter:17/20\n",
      "Iter:18/20\n",
      "Iter:19/20\n"
     ]
    }
   ],
   "source": [
    "carriage.setVelocityLimit(L)\n",
    "mandrel.setVelocityLimit(W_mand)\n",
    "print(\"Total Iterations:\", N)\n",
    "for i in range(N):\n",
    "\n",
    "    temp_string = 'Iter:' + str(i) + '/' + str(N)\n",
    "    print(temp_string)\n",
    "\n",
    "    # move head to helical angle\n",
    "    head.setVelocityLimit(abs(head_B)/(head_angle_length/L))\n",
    "    head.setTargetPosition(head_B)\n",
    "\n",
    "\n",
    "    #return on helical path\n",
    "    carriage.setTargetPosition(0)\n",
    "    mandrel.setTargetPosition(mandrel.getTargetPosition()-Total_angle)\n",
    "\n",
    "    head.setEngaged(True)\n",
    "    mandrel.setEngaged(True)\n",
    "    carriage.setEngaged(True)\n",
    "\n",
    "    while (mandrel.getIsMoving()):\n",
    "        time.sleep(.5)\n",
    "\n",
    "\n",
    "    #turn head while tapering\n",
    "    head.setVelocityLimit(W_head)\n",
    "    head.setTargetPosition(0)\n",
    "    mandrel.setTargetPosition(mandrel.getTargetPosition() - 360-angular_offset)\n",
    "\n",
    "    mandrel.setEngaged(True)\n",
    "    head.setEngaged(True)\n",
    "\n",
    "    while (mandrel.getIsMoving()):\n",
    "        time.sleep(.5)\n",
    "\n",
    "\n",
    "    # move head to helical angle\n",
    "    head.setVelocityLimit(abs(head_B)/(head_angle_length/L))\n",
    "    head.setTargetPosition(head_F)\n",
    "\n",
    "\n",
    "    #Helical Path forwards\n",
    "    head.setTargetPosition(head_F)\n",
    "    head.setEngaged(True)\n",
    "\n",
    "    carriage.setTargetPosition(distance)\n",
    "    mandrel.setTargetPosition(mandrel.getTargetPosition()-Total_angle)\n",
    "\n",
    "    head.setEngaged(True)\n",
    "    mandrel.setEngaged(True)\n",
    "    carriage.setEngaged(True)\n",
    "\n",
    "    while (mandrel.getIsMoving()):\n",
    "        time.sleep(.5)\n",
    "\n",
    "\n",
    "    #taper\n",
    "\n",
    "\n",
    "    head.setVelocityLimit(W_head)\n",
    "    head.setTargetPosition(0)\n",
    "    mandrel.setTargetPosition(mandrel.getTargetPosition() - 360)\n",
    "\n",
    "    mandrel.setEngaged(True)\n",
    "    head.setEngaged(True)\n",
    "\n",
    "    while (mandrel.getIsMoving()):\n",
    "        time.sleep(.5)\n"
   ]
  },
  {
   "attachments": {},
   "cell_type": "markdown",
   "metadata": {},
   "source": [
    "## hoop winding backward"
   ]
  },
  {
   "cell_type": "code",
   "execution_count": 6,
   "metadata": {},
   "outputs": [],
   "source": [
    "carriage.setVelocityLimit(linear_velocity)\n",
    "mandrel.setVelocityLimit(angular_velocity)\n",
    "\n",
    "head.setTargetPosition(0)\n",
    "carriage.setTargetPosition(0)\n",
    "mandrel.setTargetPosition(mandrel.getTargetPosition()-travel_distance*(360/fiber_thickness))\n",
    "\n",
    "head.setEngaged(True)\n",
    "mandrel.setEngaged(True)\n",
    "carriage.setEngaged(True)"
   ]
  },
  {
   "cell_type": "markdown",
   "metadata": {},
   "source": [
    "# Tape Winding at end"
   ]
  },
  {
   "cell_type": "code",
   "execution_count": 14,
   "metadata": {},
   "outputs": [],
   "source": [
    "mandrel.setTargetPosition(2000000000)\n",
    "mandrel.setEngaged(1)"
   ]
  },
  {
   "cell_type": "markdown",
   "metadata": {},
   "source": [
    "# other stuff"
   ]
  },
  {
   "cell_type": "code",
   "execution_count": 10,
   "metadata": {},
   "outputs": [],
   "source": [
    "# mandrel.setTargetPosition(0)\n",
    "carriage.setTargetPosition(0)\n",
    "head.setTargetPosition(0)\n",
    "carriage.setVelocityLimit(4)"
   ]
  },
  {
   "cell_type": "code",
   "execution_count": 23,
   "metadata": {},
   "outputs": [
    {
     "ename": "PhidgetException",
     "evalue": "PhidgetException 0x34 (Device not Attached)\nThis can happen for a number of common reasons. Be sure you are opening the channel before trying to use it. If you are opening the channel, the program may not be waiting for the channel to be attached. If possible use openWaitForAttachment. Otherwise, be sure to check the Attached property of the channel before trying to use it.",
     "output_type": "error",
     "traceback": [
      "\u001b[1;31m---------------------------------------------------------------------------\u001b[0m",
      "\u001b[1;31mPhidgetException\u001b[0m                          Traceback (most recent call last)",
      "\u001b[1;32mc:\\Users\\alexr\\OneDrive\\Documents\\Xwinder\\Digital_Input.ipynb Cell 28\u001b[0m line \u001b[0;36m3\n\u001b[0;32m      <a href='vscode-notebook-cell:/c%3A/Users/alexr/OneDrive/Documents/Xwinder/Digital_Input.ipynb#X41sZmlsZQ%3D%3D?line=0'>1</a>\u001b[0m \u001b[39mwhile\u001b[39;00m \u001b[39mTrue\u001b[39;00m: \n\u001b[0;32m      <a href='vscode-notebook-cell:/c%3A/Users/alexr/OneDrive/Documents/Xwinder/Digital_Input.ipynb#X41sZmlsZQ%3D%3D?line=1'>2</a>\u001b[0m     carriage\u001b[39m.\u001b[39msetTargetPosition(\u001b[39m57\u001b[39m)\n\u001b[1;32m----> <a href='vscode-notebook-cell:/c%3A/Users/alexr/OneDrive/Documents/Xwinder/Digital_Input.ipynb#X41sZmlsZQ%3D%3D?line=2'>3</a>\u001b[0m     \u001b[39mwhile\u001b[39;00m (carriage\u001b[39m.\u001b[39;49mgetIsMoving()):\n\u001b[0;32m      <a href='vscode-notebook-cell:/c%3A/Users/alexr/OneDrive/Documents/Xwinder/Digital_Input.ipynb#X41sZmlsZQ%3D%3D?line=3'>4</a>\u001b[0m         time\u001b[39m.\u001b[39msleep(\u001b[39m.5\u001b[39m)\n\u001b[0;32m      <a href='vscode-notebook-cell:/c%3A/Users/alexr/OneDrive/Documents/Xwinder/Digital_Input.ipynb#X41sZmlsZQ%3D%3D?line=4'>5</a>\u001b[0m     carriage\u001b[39m.\u001b[39msetTargetPosition(\u001b[39m2\u001b[39m)\n",
      "File \u001b[1;32mc:\\Users\\alexr\\Anaconda3\\envs\\Xwinder\\lib\\site-packages\\Phidget22\\Devices\\Stepper.py:412\u001b[0m, in \u001b[0;36mStepper.getIsMoving\u001b[1;34m(self)\u001b[0m\n\u001b[0;32m    409\u001b[0m result \u001b[39m=\u001b[39m __func(\u001b[39mself\u001b[39m\u001b[39m.\u001b[39mhandle, ctypes\u001b[39m.\u001b[39mbyref(_IsMoving))\n\u001b[0;32m    411\u001b[0m \u001b[39mif\u001b[39;00m result \u001b[39m>\u001b[39m \u001b[39m0\u001b[39m:\n\u001b[1;32m--> 412\u001b[0m \t\u001b[39mraise\u001b[39;00m PhidgetException(result)\n\u001b[0;32m    414\u001b[0m \u001b[39mreturn\u001b[39;00m \u001b[39mbool\u001b[39m(_IsMoving\u001b[39m.\u001b[39mvalue)\n",
      "\u001b[1;31mPhidgetException\u001b[0m: PhidgetException 0x34 (Device not Attached)\nThis can happen for a number of common reasons. Be sure you are opening the channel before trying to use it. If you are opening the channel, the program may not be waiting for the channel to be attached. If possible use openWaitForAttachment. Otherwise, be sure to check the Attached property of the channel before trying to use it."
     ]
    }
   ],
   "source": [
    "while True:\n",
    "    carriage.setTargetPosition(57)\n",
    "    while (carriage.getIsMoving()):\n",
    "        time.sleep(.5)\n",
    "    carriage.setTargetPosition(2)\n",
    "    while (carriage.getIsMoving()):\n",
    "        time.sleep(.5)\n"
   ]
  },
  {
   "cell_type": "code",
   "execution_count": 16,
   "metadata": {},
   "outputs": [],
   "source": [
    "carriage.setEngaged(1)"
   ]
  },
  {
   "cell_type": "code",
   "execution_count": 6,
   "metadata": {},
   "outputs": [],
   "source": [
    "head.close()\n",
    "mandrel.close()\n",
    "carriage.close()"
   ]
  },
  {
   "cell_type": "code",
   "execution_count": 22,
   "metadata": {},
   "outputs": [],
   "source": [
    "carriage.setVelocityLimit(.1)"
   ]
  },
  {
   "cell_type": "code",
   "execution_count": 13,
   "metadata": {},
   "outputs": [],
   "source": [
    "val = 0\n",
    "\n",
    "\n",
    "mandrel.setEngaged(val)\n",
    "head.setEngaged(val)\n",
    "carriage.setEngaged(val)\n",
    "\n",
    "\n"
   ]
  }
 ],
 "metadata": {
  "kernelspec": {
   "display_name": "Xwinder",
   "language": "python",
   "name": "python3"
  },
  "language_info": {
   "codemirror_mode": {
    "name": "ipython",
    "version": 3
   },
   "file_extension": ".py",
   "mimetype": "text/x-python",
   "name": "python",
   "nbconvert_exporter": "python",
   "pygments_lexer": "ipython3",
   "version": "3.9.13"
  },
  "orig_nbformat": 4
 },
 "nbformat": 4,
 "nbformat_minor": 2
}
